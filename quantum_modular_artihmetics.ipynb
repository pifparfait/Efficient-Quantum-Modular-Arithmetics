{
 "cells": [
  {
   "cell_type": "markdown",
   "id": "493685aa",
   "metadata": {},
   "source": [
    "$$\\newcommand{\\ket}[1]{\\left|{#1}\\right\\rangle}$$\n",
    "$$\\newcommand{\\bra}[1]{\\left\\langle{#1}\\right|}$$"
   ]
  },
  {
   "cell_type": "code",
   "execution_count": 1,
   "id": "bd45f6fd",
   "metadata": {},
   "outputs": [],
   "source": [
    "!pip install pennylane > out"
   ]
  },
  {
   "cell_type": "markdown",
   "id": "aaeae796",
   "metadata": {},
   "source": [
    "# Efficient Quantum Modular Arithmetics for the ISQ Era\n",
    "\n",
    "This notebook implements the following operators:\n",
    "\n",
    "1. **Inplace Quantum-Classic Adder**: $Add_{\\text{in}}(k, N) \\ket{a} \\rightarrow \\ket{a+k \\mod N}$ \n",
    "\n",
    "2. **Outplace Quantum-Classic Adder**: $Add_{\\text{out}}(k,N)\\ket{a}\\ket{0} \\rightarrow \\ket{a}\\ket{a+k \\mod N}$ \n",
    "\n",
    "3. **Inplace Quantum-Quantum Adder**: $Add_{\\text{in}}(N)\\ket{a}\\ket{b} \\rightarrow \\ket{a}\\ket{a+b \\mod N}$ \n",
    "\n",
    "4. **Outplace Quantum-Quantum Adder**: $Add_{\\text{out}}(N)\\ket{a}\\ket{b}\\ket{0} \\rightarrow \\ket{a}\\ket{b}\\ket{a+b \\mod N}$ \n",
    "\n",
    "5. **Outplace Quantum-Classic Multiplier**: $Mult_{\\text{out}}(k, N)\\ket{a}\\ket{b} \\rightarrow \\ket{a}\\ket{b + ka \\mod N}$\n",
    "\n",
    "6. **Inplace Quantum-Classic Multiplier**: $Mult_{\\text{in}}(k, N)\\ket{a} \\rightarrow \\ket{ka \\mod N}$ \n",
    "\n",
    "7. **Outplace Quantum-Quantum Multiplier**: $Mult_{\\text{out}}(N)\\ket{a}\\ket{b}\\ket{0} \\rightarrow \\ket{a}\\ket{b}\\ket{ab \\mod N}$ \n",
    "\n",
    "8. **Modular Exponential Operator**: $Exp(a, N)\\ket{x}\\ket{1}\\ket{0} \\rightarrow \\ket{x}\\ket{a^x \\mod N}\\ket{0}$ \n",
    "\n",
    "\n",
    "These operators are critical components in many quantum algorithms, and their efficient implementation is essential for leveraging the power of quantum computing."
   ]
  },
  {
   "cell_type": "code",
   "execution_count": 2,
   "id": "1bfdf80c-c93d-4abb-8bac-485ffe10e799",
   "metadata": {},
   "outputs": [],
   "source": [
    "## Libraries\n",
    "import numpy as np\n",
    "import pennylane as qml\n",
    "import matplotlib.pyplot as plt"
   ]
  },
  {
   "cell_type": "code",
   "execution_count": 3,
   "id": "aeeefc4e-d250-4ddd-a5fd-2cbf39768d73",
   "metadata": {},
   "outputs": [
    {
     "name": "stdout",
     "output_type": "stream",
     "text": [
      "12\n"
     ]
    }
   ],
   "source": [
    "import numpy as np\n",
    "\n",
    "def binary_to_integer(vOutput):\n",
    "    \"\"\"\n",
    "    Convert a binary vector 'vOutput' to an integer.\n",
    "    \"\"\"\n",
    "    vPows = 2**np.array(range(len(vOutput)))  # Create an array of powers of 2\n",
    "    vPows = vPows[::-1]  # Reverse the array to match binary order\n",
    "    return np.dot(vOutput, vPows)  # Compute the dot product to convert to an integer\n",
    "\n",
    "# Example usage\n",
    "vOutput = np.array((1, 1, 0, 0))\n",
    "print(binary_to_integer(vOutput))\n"
   ]
  },
  {
   "cell_type": "markdown",
   "id": "3932ec0e-e7de-4fa3-90f7-9d9174e4c13d",
   "metadata": {},
   "source": [
    "## 1. *Inplace* Quantum-Classic Adder\n",
    "This operator performs a modular addition of a quantum register with a classical constant.\n",
    "$$Add_{\\text{in}}(k, N) \\ket{a} \\rightarrow \\ket{a+k \\mod N}$$ \n",
    "\n",
    "\n",
    "![inplace_q_c_adder](https://github.com/pifparfait/Efficient-Quantum-Modular-Arithmetics/blob/main/img/add_q_c_in.png?raw=true)"
   ]
  },
  {
   "cell_type": "code",
   "execution_count": 4,
   "id": "d45d2581-ff37-4552-9652-e5e94aff0e67",
   "metadata": {},
   "outputs": [
    {
     "name": "stdout",
     "output_type": "stream",
     "text": [
      "4 + 3 mod 5 = 2\n"
     ]
    }
   ],
   "source": [
    "import pennylane as qml\n",
    "import numpy as np\n",
    "\n",
    "def sum_k(k, wires):\n",
    "    \"\"\"\n",
    "    Apply a rotation gate to each wire in 'wires', rotating by an angle 'k * pi / 2^j'.\n",
    "    \"\"\"\n",
    "    for j in range(len(wires)):\n",
    "        qml.RZ(k * np.pi / (2**j), wires=wires[j])\n",
    "\n",
    "def add_in_k_N(k, N, wires_a, wires_aux, is_in_standard_basis=True):\n",
    "    \"\"\"\n",
    "    Perform in-place modular addition of 'k' to the quantum register 'wires_a' modulo 'N'.\n",
    "    'wires_aux' is an auxiliary wire used for intermediate calculations.\n",
    "    'is_in_standard_basis' specifies whether the input state is in the standard basis (True) or Fourier basis (False).\n",
    "    \"\"\"\n",
    "    \n",
    "    # Set the Fourier basis if 'is_in_standard_basis' is True\n",
    "    if is_in_standard_basis:\n",
    "        qml.QFT(wires=wires_a)  # Step 1\n",
    "    \n",
    "    # Step 1: Add 'k' to the register\n",
    "    sum_k(k, wires_a)\n",
    "    \n",
    "    # Step 2: Subtract 'N'\n",
    "    qml.adjoint(sum_k)(N, wires_a)\n",
    "    \n",
    "    # Step 3: Conditionally add 'N' back\n",
    "    qml.adjoint(qml.QFT)(wires=wires_a)\n",
    "    qml.CNOT(wires=[wires_a[0], wires_aux[0]])  # Use the most significant bit to control the auxiliary bit\n",
    "    qml.QFT(wires=wires_a)\n",
    "    \n",
    "    # Step 4: Add 'N' to the register conditionally\n",
    "    qml.ctrl(sum_k, control=wires_aux[0])(N, wires_a)\n",
    "    \n",
    "    # Step 5: Clear the auxiliary bit\n",
    "    qml.adjoint(sum_k)(k, wires_a)\n",
    "    \n",
    "    # Step 6: Conditionally add 'N' back\n",
    "    qml.adjoint(qml.QFT)(wires=wires_a)\n",
    "    qml.PauliX(wires=wires_a[0])\n",
    "    qml.CNOT(wires=[wires_a[0], wires_aux[0]])  # Use the most significant bit to control the auxiliary bit\n",
    "    qml.PauliX(wires=wires_a[0])\n",
    "    qml.QFT(wires=wires_a)\n",
    "    \n",
    "    # Step 7: Add 'k' to the register\n",
    "    sum_k(k, wires_a)\n",
    "    \n",
    "    # Recover the standard basis if 'is_in_standard_basis' is True\n",
    "    if is_in_standard_basis:\n",
    "        qml.adjoint(qml.QFT)(wires=wires_a)\n",
    "\n",
    "# Create the device\n",
    "nWireCount = 10\n",
    "dev = qml.device(\"default.qubit\", wires=nWireCount, shots=1)\n",
    "\n",
    "@qml.qnode(dev)\n",
    "def circuit_add_in_k_N(a, k, N, wires_a, wires_aux):\n",
    "    qml.BasisEmbedding(a, wires=wires_a)\n",
    "    add_in_k_N(k, N, wires_a, wires_aux)\n",
    "    return qml.sample()\n",
    "\n",
    "# Set the wires\n",
    "wires_a = list(range(1, 4))\n",
    "wires_aux1 = 0\n",
    "wires_aux2 = [4]\n",
    "\n",
    "# Example\n",
    "N = 5  # Input value between [0, 7]\n",
    "a = 4  # Input value between [0, N-1]\n",
    "k = 3  # Input value between [0, N-1]\n",
    "wires_a = [wires_aux1] + wires_a\n",
    "vOutput = circuit_add_in_k_N(a, k, N, wires_a, wires_aux2)\n",
    "\n",
    "print(a, \"+\", k, \"mod\", N, \"=\", binary_to_integer(vOutput[wires_a]))\n"
   ]
  },
  {
   "cell_type": "markdown",
   "id": "c15aa12b-d217-408a-b081-6bcc99825fba",
   "metadata": {},
   "source": [
    "## 2. *Outplace* Quantum-Classic Adder \n",
    "Similar to the previous operator but in an outplace fashion, where the result is stored in a separate quantum register.\n",
    "$$Add_{\\text{out}}(k,N)\\ket{a}\\ket{0} \\rightarrow \\ket{a}\\ket{a+k \\mod N}$$ \n",
    "\n",
    "![outplace_q_c_adder](https://github.com/pifparfait/Efficient-Quantum-Modular-Arithmetics/blob/main/img/add_q_c_out.png?raw=true)"
   ]
  },
  {
   "cell_type": "code",
   "execution_count": 5,
   "id": "2dc3d565-df09-4823-a396-0a62dd5a9568",
   "metadata": {},
   "outputs": [
    {
     "name": "stdout",
     "output_type": "stream",
     "text": [
      "5 + 3 mod 7 = 1\n"
     ]
    }
   ],
   "source": [
    "def add_out_k_N(k, N, wires_a, wires_res, wires_aux):\n",
    "    \"\"\"\n",
    "    Perform an outplace modular addition with a classical constant 'k' modulo 'N' on a quantum register 'wires_a'.\n",
    "    The result is stored in 'wires_res'.\n",
    "\n",
    "    :param k: Classical constant to be added modulo N.\n",
    "    :param N: The modulus.\n",
    "    :param wires_a: Quantum wires for input.\n",
    "    :param wires_res: Quantum wires for result.\n",
    "    :param wires_aux: Quantum wires for auxiliary operations.\n",
    "    \"\"\"\n",
    "    if len(wires_aux) < 2:\n",
    "        print(\"Not enough ancillary wires\")\n",
    "        return\n",
    "\n",
    "    # Set 'a' using CNOT gates\n",
    "    for i in range(len(wires_res)):\n",
    "        qml.CNOT(wires=[wires_a[i], wires_res[i]])\n",
    "\n",
    "    new_wires_res = [wires_aux[0]] + wires_res\n",
    "    add_in_k_N(k, N, new_wires_res, [wires_aux[1]])\n",
    "\n",
    "# Create the device\n",
    "nWireCount = 8\n",
    "dev = qml.device(\"default.qubit\", wires=nWireCount, shots=1)\n",
    "\n",
    "@qml.qnode(dev)\n",
    "def circuit_add_out_k_N(a, k, N, wires_a, wires_res, wires_aux):\n",
    "    qml.BasisEmbedding(a, wires=wires_a)\n",
    "    add_out_k_N(k, N, wires_a, wires_res, wires_aux)\n",
    "    return qml.sample()\n",
    "\n",
    "# Set wires\n",
    "wires_a = list(range(0, 3))\n",
    "wires_res = list(range(3, 6))\n",
    "wires_aux = [6, 7]\n",
    "\n",
    "# Example\n",
    "N = 7  # Input value between [0, 7]\n",
    "a = 5  # Input value between [0, N-1]\n",
    "k = 3  # Input value between [0, N-1]\n",
    "vOutput = circuit_add_out_k_N(a, k, N, wires_a, wires_res, wires_aux)\n",
    "print(a, \"+\", k, \"mod\", N, \"=\", binary_to_integer(vOutput[wires_res]))\n"
   ]
  },
  {
   "cell_type": "markdown",
   "id": "1600dbd3-0ff2-48d8-9d38-86a7d9b0e15e",
   "metadata": {},
   "source": [
    "## 3. *Inplace* Quantum-Quantum Adder \n",
    "This operator adds two quantum registers modulo N.\n",
    "$$Add_{\\text{in}}(N)\\ket{a}\\ket{b} \\rightarrow \\ket{a}\\ket{a+b \\mod N}$$ \n",
    "\n",
    "![inplace_q_q_adder](https://github.com/pifparfait/Efficient-Quantum-Modular-Arithmetics/blob/main/img/add_q_q_in.png?raw=true)"
   ]
  },
  {
   "cell_type": "code",
   "execution_count": 6,
   "id": "caec65b6-cea2-4c58-867b-b605388593d4",
   "metadata": {},
   "outputs": [
    {
     "name": "stdout",
     "output_type": "stream",
     "text": [
      "1 + 3 mod 5 = 4\n"
     ]
    }
   ],
   "source": [
    "def add_in_N(N, wires_a, wires_b, aux1, aux2):\n",
    "    \"\"\"\n",
    "    Perform an inplace modular addition of a quantum register 'wires_b' to another quantum register 'wires_a'\n",
    "    modulo 'N' with auxiliary wires 'aux1' and 'aux2'.\n",
    "\n",
    "    :param N: The modulus.\n",
    "    :param wires_a: Quantum wires for the first input.\n",
    "    :param wires_b: Quantum wires for the second input.\n",
    "    :param aux1: Auxiliary quantum wires.\n",
    "    :param aux2: Auxiliary quantum wires.\n",
    "    \"\"\"\n",
    "    new_wires_b = aux1 + wires_b\n",
    "\n",
    "    # Apply the quantum Fourier transform to 'wires_b'\n",
    "    qml.QFT(wires=new_wires_b)\n",
    "\n",
    "    for i in range(len(wires_a)):\n",
    "        value = 2**(len(wires_a) - 1 - i) % N\n",
    "\n",
    "        # Controlled modular addition of 'value' to 'wires_b'\n",
    "        qml.ctrl(add_in_k_N, control=wires_a[i])(value, N, new_wires_b, aux2, False)\n",
    "\n",
    "    # Inverse quantum Fourier transform on 'wires_b'\n",
    "    qml.adjoint(qml.QFT)(wires=new_wires_b)\n",
    "\n",
    "# Create the device\n",
    "nWireCount = 10\n",
    "dev = qml.device(\"default.qubit\", wires=nWireCount, shots=1)\n",
    "\n",
    "@qml.qnode(dev)\n",
    "def circuit_add_in_N(a, b, N, wires_a, wires_b, aux1, aux2):\n",
    "    qml.BasisEmbedding(a, wires=wires_a)\n",
    "    qml.BasisEmbedding(b, wires=wires_b)\n",
    "    add_in_N(N, wires_a, wires_b, aux1, aux2)\n",
    "    return qml.sample()\n",
    "\n",
    "# Set wires\n",
    "wires_a = list(range(0, 3))\n",
    "wires_b = list(range(3, 6))\n",
    "aux1 = [6]\n",
    "aux2 = [7]\n",
    "\n",
    "# Example\n",
    "N = 5  # Input value between [0, 7]\n",
    "a = 1  # Input value between [0, N-1]\n",
    "b = 3  # Input value between [0, N-1]\n",
    "vOutput = circuit_add_in_N(a, b, N, wires_a, wires_b, aux1, aux2)\n",
    "print(a, \"+\", b, \"mod\", N, \"=\", binary_to_integer(vOutput[wires_b]))\n"
   ]
  },
  {
   "cell_type": "markdown",
   "id": "d9c53541-e68b-4dcd-a920-eb55ec456c5f",
   "metadata": {},
   "source": [
    "## 4. *Outplace* Quantum-Quantum Adder\n",
    "Similar to the previous operator but in an outplace fashion.\n",
    "\n",
    "$$Add_{\\text{out}}(N)\\ket{a}\\ket{b}\\ket{0} \\rightarrow \\ket{a}\\ket{b}\\ket{a+b \\mod N}$$\n",
    "![outplace_q_c_adder](https://github.com/pifparfait/Efficient-Quantum-Modular-Arithmetics/blob/main/img/add_q_q_out.png?raw=true)"
   ]
  },
  {
   "cell_type": "code",
   "execution_count": 7,
   "id": "d00fc2a3-36af-4158-83a7-397cd287e916",
   "metadata": {},
   "outputs": [
    {
     "name": "stdout",
     "output_type": "stream",
     "text": [
      "1 + 3 mod 5 = 4\n"
     ]
    }
   ],
   "source": [
    "def add_out_N(N, wires_a, wires_b, wires_res, aux1, aux2):\n",
    "    \"\"\"\n",
    "    Perform an outplace modular addition of a quantum register 'wires_b' to another quantum register 'wires_a'\n",
    "    modulo 'N' with the result stored in 'wires_res', using auxiliary wires 'aux1' and 'aux2'.\n",
    "\n",
    "    :param N: The modulus.\n",
    "    :param wires_a: Quantum wires for the first input.\n",
    "    :param wires_b: Quantum wires for the second input.\n",
    "    :param wires_res: Quantum wires to store the result.\n",
    "    :param aux1: Auxiliary quantum wires.\n",
    "    :param aux2: Auxiliary quantum wires.\n",
    "    \"\"\"\n",
    "    # Set 'b' in 'wires_res'\n",
    "    for i in range(len(wires_b)):\n",
    "        qml.CNOT(wires=[wires_b[i], wires_res[i]])\n",
    "\n",
    "    # Sum 'a' to 'wires_res' using the 'add_in_N' function\n",
    "    add_in_N(N, wires_a, wires_res, aux1, aux2)\n",
    "\n",
    "# Create the device\n",
    "nWireCount = 11\n",
    "dev = qml.device(\"default.qubit\", wires=nWireCount, shots=1)\n",
    "\n",
    "@qml.qnode(dev)\n",
    "def circuit_add_out_N(a, b, N, wires_a, wires_b, wires_res, aux1, aux2):\n",
    "    qml.BasisEmbedding(a, wires=wires_a)\n",
    "    qml.BasisEmbedding(b, wires=wires_b)\n",
    "    add_out_N(N, wires_a, wires_b, wires_res, aux1, aux2)\n",
    "    return qml.sample()\n",
    "\n",
    "# Set wires\n",
    "wires_a = list(range(0, 3))\n",
    "wires_b = list(range(3, 6))\n",
    "wires_res = list(range(6, 9))\n",
    "aux1 = [9]\n",
    "aux2 = [10]\n",
    "\n",
    "# Example\n",
    "N = 5  # Input value between [0, 7]\n",
    "a = 1  # Input value between [0, N-1]\n",
    "b = 3  # Input value between [0, N-1]\n",
    "\n",
    "vOutput = circuit_add_out_N(a, b, N, wires_a, wires_b, wires_res, aux1, aux2)\n",
    "print(a, \"+\", b, \"mod\", N, \"=\", binary_to_integer(vOutput[wires_res]))\n"
   ]
  },
  {
   "cell_type": "markdown",
   "id": "f77c6c22-6152-45c6-910b-59e16b2228a9",
   "metadata": {},
   "source": [
    "## 5. *Outplace* Quantum-Classic Multiplier\n",
    "This operator multiplies a quantum register by a classical constant modulo N.\n",
    "$$Mult_{\\text{out}}(k, N)\\ket{a}\\ket{b} \\rightarrow \\ket{a}\\ket{b + ka \\mod N}$$\n",
    "\n",
    "![outplace_q_c_multplier](https://github.com/pifparfait/Efficient-Quantum-Modular-Arithmetics/blob/main/img/mult_q_c_out.png?raw=true)"
   ]
  },
  {
   "cell_type": "code",
   "execution_count": 8,
   "id": "1bc3ffa5-0584-4fab-a929-c1727c08a63b",
   "metadata": {},
   "outputs": [
    {
     "name": "stdout",
     "output_type": "stream",
     "text": [
      "2 * 4 + 3 mod 6 = 5\n"
     ]
    }
   ],
   "source": [
    "def mult_out_k_N(k, N, wires_a, wires_b, wires_aux):\n",
    "    \"\"\"\n",
    "    Perform an outplace modular multiplication of a quantum register 'wires_a' by a classical constant 'k',\n",
    "    modulo 'N', with the result stored in 'wires_b', using auxiliary wires 'wires_aux'.\n",
    "\n",
    "    :param k: The classical constant to multiply by.\n",
    "    :param N: The modulus.\n",
    "    :param wires_a: Quantum wires for the first input.\n",
    "    :param wires_b: Quantum wires to store the result.\n",
    "    :param wires_aux: Auxiliary quantum wires.\n",
    "    \"\"\"\n",
    "    if len(wires_aux) < 2:\n",
    "        print(\"Not enough ancillary qubits\")\n",
    "        return\n",
    "\n",
    "    # Apply Fourier basis\n",
    "    new_wires_b = [wires_aux[0]] + wires_b\n",
    "\n",
    "    qml.QFT(wires=new_wires_b)\n",
    "    \n",
    "    for i in range(len(wires_a)):\n",
    "        value = (k * 2**(len(wires_a) - 1 - i)) % N\n",
    "        qml.ctrl(add_in_k_N, wires_a[i])(value, N, new_wires_b, [wires_aux[1]], False)\n",
    "\n",
    "    qml.adjoint(qml.QFT)(wires=new_wires_b)\n",
    "\n",
    "## Create the device\n",
    "nWireCount = 8\n",
    "dev = qml.device(\"default.qubit\", wires=nWireCount, shots=1)\n",
    "\n",
    "@qml.qnode(dev)\n",
    "def circuit_mult_out_k_N(a, b, k, N, wires_a, wires_b, wires_aux):\n",
    "    qml.BasisEmbedding(a, wires=wires_a)\n",
    "    qml.BasisEmbedding(b, wires=wires_b)\n",
    "    mult_out_k_N(k, N, wires_a, wires_b, wires_aux)\n",
    "    return qml.sample()\n",
    "\n",
    "## Set wires\n",
    "wires_a = list(range(0, 3))\n",
    "wires_b = list(range(3, 6))\n",
    "wires_aux = [6, 7]\n",
    "\n",
    "# Example\n",
    "N = 6  # Input value between [0, 7]\n",
    "a = 2  # Input value between [0, N-1]\n",
    "k = 4  # Input value between [0, N-1]\n",
    "b = 3  # Input value between [0, N-1]\n",
    "\n",
    "vOutput = circuit_mult_out_k_N(a, b, k, N, wires_a, wires_b, wires_aux)\n",
    "print(a, \"*\", k, \"+\", b, \"mod\", N, \"=\", binary_to_integer(vOutput[wires_b]))\n"
   ]
  },
  {
   "cell_type": "markdown",
   "id": "4d6908d1-bf93-463e-9a67-bf4953f3fc0a",
   "metadata": {},
   "source": [
    "## 6. *Inplace* Quantum-Classic Multiplier\n",
    "Similar to the previous operator but in an inplace fashion.\n",
    " $$Mult_{\\text{in}}(k, N)\\ket{a} \\rightarrow \\ket{ka \\mod N}$$ \n",
    "\n",
    "To calculate this operator, we will perform the following operations:\n",
    "\n",
    "\\begin{align}\n",
    "    \\ket{a}\\ket{0} & \\xrightarrow{Mult_{\\text{out}}(k,N)} \\ket{a}\\ket{ka} \\\\\n",
    "    & \\xrightarrow{\\text{SWAP}} \\ket{ka}\\ket{a} \\\\\n",
    "    & \\xrightarrow{{Mult_{\\text{out}}(k^{-1}, N)}^{\\dagger}} \\ket{ka}\\ket{0}.\n",
    "    \\label{eq:quantum_classic_inplace_mult}\n",
    "\\end{align}\n",
    "\n",
    "\n",
    "\n",
    "These operations represent the steps involved in calculating the operator.\n",
    "![inplace_q_c_mult](https://github.com/pifparfait/Efficient-Quantum-Modular-Arithmetics/blob/main/img/mult_q_c_in.png?raw=true)"
   ]
  },
  {
   "cell_type": "code",
   "execution_count": 9,
   "id": "59450d7a-a415-4a24-852a-dc6a98d774d5",
   "metadata": {},
   "outputs": [
    {
     "name": "stdout",
     "output_type": "stream",
     "text": [
      "1 * 3 mod 5 = 3\n"
     ]
    }
   ],
   "source": [
    "def mult_in_k_N(k, N, wires_a, wires_support, wires_aux):\n",
    "    \"\"\"\n",
    "    Perform an inplace modular multiplication of a quantum register 'wires_a' by a classical constant 'k',\n",
    "    modulo 'N', with the result stored in 'wires_a'. Uses auxiliary wires 'wires_support' and 'wires_aux'.\n",
    "\n",
    "    :param k: The classical constant to multiply by.\n",
    "    :param N: The modulus.\n",
    "    :param wires_a: Quantum wires for the input and to store the result.\n",
    "    :param wires_support: Quantum wires for support.\n",
    "    :param wires_aux: Auxiliary quantum wires.\n",
    "    \"\"\"\n",
    "    if len(wires_aux) < 2 or not (len(wires_a) == len(wires_support)):\n",
    "        print(\"Not enough ancillary qubits\")\n",
    "        return\n",
    "\n",
    "    if pow(k, N-2, N)*k % N != 1:\n",
    "        print(\"FALLO: No existe el inverso de\", k, \"mod\", N)\n",
    "        return\n",
    "    \n",
    "    # Step 1\n",
    "    mult_out_k_N(k, N, wires_a, wires_support, wires_aux)\n",
    "\n",
    "    # Step 2\n",
    "    for i in range(len(wires_a)):\n",
    "        qml.SWAP(wires=[wires_a[i], wires_support[i]])\n",
    "\n",
    "    # Step 3\n",
    "    inv_k = pow(k, N-2, N)  # Calculate the modular inverse\n",
    "    mult_out_k_N(N - inv_k, N, wires_a, wires_support, wires_aux)\n",
    "\n",
    "## Create the device\n",
    "nWireCount = 8\n",
    "dev = qml.device(\"default.qubit\", wires=nWireCount, shots=1)\n",
    "\n",
    "@qml.qnode(dev)\n",
    "def circuit_mult_in_k_N(a, k, N, wires_a, wires_support, wires_aux):\n",
    "    qml.BasisEmbedding(a, wires=wires_a)\n",
    "    mult_in_k_N(k, N, wires_a, wires_support, wires_aux)\n",
    "    return qml.sample()\n",
    "\n",
    "## Set wires\n",
    "wires_a = list(range(0, 3))\n",
    "wires_support = list(range(3, 6))\n",
    "wires_aux = [6, 7]\n",
    "\n",
    "# Example\n",
    "N = 5  # Input value between [0, 7]\n",
    "a = 1  # Input value between [0, N-1]\n",
    "k = 3  # Input value between [0, N-1]\n",
    "vOutput = circuit_mult_in_k_N(a, k, N, wires_a, wires_support, wires_aux)\n",
    "print(a, \"*\", k, \"mod\", N, \"=\", binary_to_integer(vOutput[wires_a]))\n"
   ]
  },
  {
   "cell_type": "markdown",
   "id": "500943a0-fc70-4084-b68a-c49afc16d9cb",
   "metadata": {},
   "source": [
    "## 7. *Outplace* Quantum-Quantum Multiplier \n",
    "This operator multiplies two quantum registers modulo N.\n",
    "$$Mult_{\\text{out}}(N)\\ket{a}\\ket{b}\\ket{0} \\rightarrow \\ket{a}\\ket{b}\\ket{ab \\mod N}$$ \n",
    "![outplace_q_q_mult](https://github.com/pifparfait/Efficient-Quantum-Modular-Arithmetics/blob/main/img/mult_q_q_out.png?raw=true)"
   ]
  },
  {
   "cell_type": "code",
   "execution_count": 10,
   "id": "7daf6aa6-2dab-49bb-a1b0-f5a777fa0fd6",
   "metadata": {},
   "outputs": [
    {
     "name": "stdout",
     "output_type": "stream",
     "text": [
      "3 * 5 mod 7 = 1\n"
     ]
    }
   ],
   "source": [
    "def mult_out_N(N, wires_a, wires_b, wires_res, wires_aux):\n",
    "    \"\"\"\n",
    "    Perform an outplace modular multiplication of quantum registers 'wires_a' and 'wires_b',\n",
    "    with the result stored in 'wires_res'. Uses auxiliary wires 'wires_aux'.\n",
    "\n",
    "    :param N: The modulus.\n",
    "    :param wires_a: Quantum wires for the first input.\n",
    "    :param wires_b: Quantum wires for the second input.\n",
    "    :param wires_res: Quantum wires to store the result.\n",
    "    :param wires_aux: Auxiliary quantum wires.\n",
    "    \"\"\"\n",
    "    # Join the auxiliary wires to the result wires\n",
    "    new_wires_res = [wires_aux[0]] + wires_res\n",
    "    \n",
    "    # Set the Fourier basis\n",
    "    qml.QFT(wires=new_wires_res)\n",
    "    \n",
    "    for i in range(len(wires_a)):\n",
    "        new_i = len(wires_a) - i - 1\n",
    "        for j in range(len(wires_b)):\n",
    "            new_j = len(wires_b) - j - 1\n",
    "            value = 2**(new_i + new_j) % N\n",
    "            qml.ctrl(add_in_k_N, control=[wires_a[i], wires_b[j]])(value, N, new_wires_res, [wires_aux[1]], False)\n",
    "    \n",
    "    # Recover the basis\n",
    "    qml.adjoint(qml.QFT)(wires=new_wires_res)\n",
    "\n",
    "## Create the device\n",
    "nWireCount = 11\n",
    "dev = qml.device(\"default.qubit\", wires=nWireCount, shots=1)\n",
    "\n",
    "@qml.qnode(dev)\n",
    "def circuit_mult_out_N(a, b, N, wires_a, wires_b, wires_res, wires_aux):\n",
    "    qml.BasisEmbedding(a, wires=wires_a)\n",
    "    qml.BasisEmbedding(b, wires=wires_b)\n",
    "    mult_out_N(N, wires_a, wires_b, wires_res, wires_aux)\n",
    "    return qml.sample()\n",
    "\n",
    "## Set wires\n",
    "wires_a = list(range(0, 3))\n",
    "wires_b = list(range(3, 6))\n",
    "wires_res = list(range(6, 9))\n",
    "wires_aux = [9, 10]\n",
    "\n",
    "# Example\n",
    "N = 7  # Input value between [0, 7]\n",
    "a = 3  # Input value between [0, N-1]\n",
    "b = 5  # Input value between [0, N-1]\n",
    "vOutput = circuit_mult_out_N(a, b, N, wires_a, wires_b, wires_res, wires_aux)\n",
    "print(a, \"*\", b, \"mod\", N, \"=\", binary_to_integer(vOutput[wires_res]))\n"
   ]
  },
  {
   "cell_type": "markdown",
   "id": "bc722f91-49ce-498e-8632-431863e409ab",
   "metadata": {},
   "source": [
    "# 8. Modular Exponential Operator\n",
    "This operator efficiently computes the modular exponentiation of a quantum register.\n",
    "\n",
    "$$Exp(a, N)\\ket{x}\\ket{1}\\ket{0} \\rightarrow \\ket{x}\\ket{a^x \\mod N}\\ket{0}$$\n",
    "![out_place_exp](https://github.com/pifparfait/Efficient-Quantum-Modular-Arithmetics/blob/main/img/exp_operator.png?raw=true)\n"
   ]
  },
  {
   "cell_type": "code",
   "execution_count": 11,
   "id": "27811acb-766b-4f7f-b4ad-60c4777d83ef",
   "metadata": {},
   "outputs": [
    {
     "name": "stdout",
     "output_type": "stream",
     "text": [
      "2 ** 3 mod 7 = 1\n",
      "The expected result is 1\n"
     ]
    }
   ],
   "source": [
    "def Exp_a_N(a, N, wires_x, wires_res, wires_support, wires_aux):\n",
    "    \"\"\"\n",
    "    Exponential operator for quantum registers 'wires_x' with the result stored in 'wires_res'.\n",
    "    \n",
    "    :param a: The base of the exponential.\n",
    "    :param N: The modulus.\n",
    "    :param wires_x: Quantum wires for the input.\n",
    "    :param wires_res: Quantum wires to store the result.\n",
    "    :param wires_support: Quantum wires for intermediate calculations.\n",
    "    :param wires_aux: Auxiliary quantum wires.\n",
    "    \"\"\"\n",
    "    # Set wires_res -> |1>\n",
    "    qml.PauliX(wires=wires_res[len(wires_res) - 1])\n",
    "    \n",
    "    # Apply the Mult_in\n",
    "    n = len(wires_x)\n",
    "    for i in range(n):\n",
    "        value = a**(2**(n-i-1))\n",
    "        qml.ctrl(mult_in_k_N, control=[wires_x[i]])(value, N, wires_res, wires_support, wires_aux)\n",
    "\n",
    "## Create the device\n",
    "nWireCount = 11\n",
    "dev = qml.device(\"default.qubit\", wires=nWireCount, shots=1)\n",
    "\n",
    "@qml.qnode(dev)\n",
    "def circuit_exp_a_N(x, a, N, wires_x, wires_res, wires_support, wires_aux):\n",
    "    qml.BasisEmbedding(x, wires=wires_x)\n",
    "    Exp_a_N(a, N, wires_x, wires_res, wires_support, wires_aux)\n",
    "    return qml.sample()\n",
    "\n",
    "## Set wires\n",
    "wires_x = list(range(0, 3))\n",
    "wires_res = list(range(3, 6))\n",
    "wires_support = list(range(6, 9))\n",
    "wires_aux = [9, 10]\n",
    "\n",
    "# Example\n",
    "N = 7  # Input value between [0, 7]\n",
    "x = 3  # Input value between [0, N-1]\n",
    "a = 2  # Input value between [0, N-1]\n",
    "vOutput = circuit_exp_a_N(x, a, N, wires_x, wires_res, wires_support, wires_aux)\n",
    "print(a, \"**\", x, \"mod\", N, \"=\", binary_to_integer(vOutput[wires_res]))\n",
    "print(\"The expected result is\", a**x % N)\n"
   ]
  },
  {
   "cell_type": "markdown",
   "id": "471eec35",
   "metadata": {},
   "source": [
    "## Period finding\n",
    "\n",
    "This cell introduces the concept of using the **exponential operator** in Shor's quantum algorithm for integer factorization. It encourages users to explore how this operator can help find the period, a crucial step in Shor's algorithm, by referring to an included quantum circuit diagram. The image provides a visual representation of part of the algorithm. It is a starting point for users interested in implementing Shor's algorithm for integer factorization using quantum computing techniques.\n",
    "\n",
    "![period_finding](https://github.com/pifparfait/Efficient-Quantum-Modular-Arithmetics/blob/main/img/p_finding.png?raw=true)\n"
   ]
  },
  {
   "cell_type": "code",
   "execution_count": 39,
   "id": "d39d6885",
   "metadata": {},
   "outputs": [
    {
     "data": {
      "text/plain": [
       "tensor([0.1875, 0.125 , 0.0625, 0.125 , 0.1875, 0.125 , 0.0625, 0.125 ], requires_grad=True)"
      ]
     },
     "execution_count": 39,
     "metadata": {},
     "output_type": "execute_result"
    }
   ],
   "source": [
    "## Create the quantum device\n",
    "nWireCount = 11\n",
    "dev = qml.device(\"default.qubit\", wires=nWireCount)\n",
    "\n",
    "@qml.qnode(dev)\n",
    "def circuit_exp_a_N(a, N, wires_x, wires_res, wires_support, wires_aux):\n",
    "    # Apply Hadamard gates to all wires in wires_x\n",
    "    for i in range(len(wires_x)):\n",
    "        qml.Hadamard(wires=i)\n",
    "\n",
    "    # Apply the Exponential Operator\n",
    "    Exp_a_N(a, N, wires_x, wires_res, wires_support, wires_aux)\n",
    "\n",
    "    # Apply the inverse Quantum Fourier Transform\n",
    "    qml.adjoint(qml.QFT(wires=wires_x))\n",
    "\n",
    "    return qml.probs(wires=wires_x)\n",
    "\n",
    "## Set wire configurations\n",
    "wires_x = list(range(0, 3))\n",
    "wires_res = list(range(3, 6))\n",
    "wires_support = list(range(6, 9))\n",
    "wires_aux = [9, 10]\n",
    "\n",
    "# Example\n",
    "N = 7  # Input value between [0, 7]\n",
    "a = 3  # Input value between [0, N-1]\n",
    "vOutput = circuit_exp_a_N(a, N, wires_x, wires_res, wires_support, wires_aux)\n",
    "vOutput"
   ]
  },
  {
   "cell_type": "markdown",
   "id": "a5b19e27",
   "metadata": {},
   "source": [
    "## How to cite this work:\n"
   ]
  },
  {
   "cell_type": "code",
   "execution_count": null,
   "id": "e297fa14",
   "metadata": {},
   "outputs": [],
   "source": []
  }
 ],
 "metadata": {
  "kernelspec": {
   "display_name": "Python 3 (ipykernel)",
   "language": "python",
   "name": "python3"
  },
  "language_info": {
   "codemirror_mode": {
    "name": "ipython",
    "version": 3
   },
   "file_extension": ".py",
   "mimetype": "text/x-python",
   "name": "python",
   "nbconvert_exporter": "python",
   "pygments_lexer": "ipython3",
   "version": "3.9.12"
  }
 },
 "nbformat": 4,
 "nbformat_minor": 5
}
